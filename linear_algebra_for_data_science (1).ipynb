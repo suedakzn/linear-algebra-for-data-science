{
 "cells": [
  {
   "cell_type": "code",
   "execution_count": 224,
   "id": "54e74dd9-5fdc-4a40-a4dd-7a47c99e74dd",
   "metadata": {},
   "outputs": [],
   "source": [
    "# required libraries\n",
    "import pandas as pd\n",
    "from sklearn.datasets import load_diabetes\n",
    "from sklearn.decomposition import PCA\n",
    "from sklearn.preprocessing import StandardScaler\n",
    "from sklearn.linear_model import LinearRegression\n",
    "from sklearn.model_selection import train_test_split\n",
    "from sklearn.metrics import mean_squared_error, mean_absolute_error, r2_score\n",
    "import matplotlib.pyplot as plt"
   ]
  },
  {
   "cell_type": "markdown",
   "id": "3de5128e-3136-4c90-b6f0-c7d00de70a52",
   "metadata": {},
   "source": [
    "## **1. Data Set Selection**"
   ]
  },
  {
   "cell_type": "code",
   "execution_count": 226,
   "id": "8a2ea503-c534-4fcb-b216-9387f08834f5",
   "metadata": {},
   "outputs": [],
   "source": [
    "# load the diabetes dataset\n",
    "diabetes_data = load_diabetes()"
   ]
  },
  {
   "cell_type": "code",
   "execution_count": 227,
   "id": "e8d213b1-33d4-490e-b10a-118bc3490161",
   "metadata": {},
   "outputs": [],
   "source": [
    "# convert the dataset into a pandas DataFrame\n",
    "df = pd.DataFrame(data = diabetes_data.data, columns = diabetes_data.feature_names)\n",
    "df['target'] = diabetes_data.target"
   ]
  },
  {
   "cell_type": "code",
   "execution_count": 228,
   "id": "127a60e6-28e1-4839-bfd0-dab7795b4726",
   "metadata": {},
   "outputs": [
    {
     "name": "stdout",
     "output_type": "stream",
     "text": [
      "<class 'pandas.core.frame.DataFrame'>\n",
      "RangeIndex: 442 entries, 0 to 441\n",
      "Data columns (total 11 columns):\n",
      " #   Column  Non-Null Count  Dtype  \n",
      "---  ------  --------------  -----  \n",
      " 0   age     442 non-null    float64\n",
      " 1   sex     442 non-null    float64\n",
      " 2   bmi     442 non-null    float64\n",
      " 3   bp      442 non-null    float64\n",
      " 4   s1      442 non-null    float64\n",
      " 5   s2      442 non-null    float64\n",
      " 6   s3      442 non-null    float64\n",
      " 7   s4      442 non-null    float64\n",
      " 8   s5      442 non-null    float64\n",
      " 9   s6      442 non-null    float64\n",
      " 10  target  442 non-null    float64\n",
      "dtypes: float64(11)\n",
      "memory usage: 38.1 KB\n"
     ]
    }
   ],
   "source": [
    "# View the basic information of the dataset\n",
    "df.info()"
   ]
  },
  {
   "cell_type": "markdown",
   "id": "0161a32b-9fe7-497d-af5c-67dc3caf2981",
   "metadata": {},
   "source": [
    "## **2. Data Discovery and Cleansing**"
   ]
  },
  {
   "cell_type": "code",
   "execution_count": 230,
   "id": "64eb1a8e-595f-4bd5-bac6-b1f2afb31b46",
   "metadata": {},
   "outputs": [
    {
     "data": {
      "text/html": [
       "<div>\n",
       "<style scoped>\n",
       "    .dataframe tbody tr th:only-of-type {\n",
       "        vertical-align: middle;\n",
       "    }\n",
       "\n",
       "    .dataframe tbody tr th {\n",
       "        vertical-align: top;\n",
       "    }\n",
       "\n",
       "    .dataframe thead th {\n",
       "        text-align: right;\n",
       "    }\n",
       "</style>\n",
       "<table border=\"1\" class=\"dataframe\">\n",
       "  <thead>\n",
       "    <tr style=\"text-align: right;\">\n",
       "      <th></th>\n",
       "      <th>age</th>\n",
       "      <th>sex</th>\n",
       "      <th>bmi</th>\n",
       "      <th>bp</th>\n",
       "      <th>s1</th>\n",
       "      <th>s2</th>\n",
       "      <th>s3</th>\n",
       "      <th>s4</th>\n",
       "      <th>s5</th>\n",
       "      <th>s6</th>\n",
       "      <th>target</th>\n",
       "    </tr>\n",
       "  </thead>\n",
       "  <tbody>\n",
       "    <tr>\n",
       "      <th>0</th>\n",
       "      <td>0.038076</td>\n",
       "      <td>0.050680</td>\n",
       "      <td>0.061696</td>\n",
       "      <td>0.021872</td>\n",
       "      <td>-0.044223</td>\n",
       "      <td>-0.034821</td>\n",
       "      <td>-0.043401</td>\n",
       "      <td>-0.002592</td>\n",
       "      <td>0.019907</td>\n",
       "      <td>-0.017646</td>\n",
       "      <td>151.0</td>\n",
       "    </tr>\n",
       "    <tr>\n",
       "      <th>1</th>\n",
       "      <td>-0.001882</td>\n",
       "      <td>-0.044642</td>\n",
       "      <td>-0.051474</td>\n",
       "      <td>-0.026328</td>\n",
       "      <td>-0.008449</td>\n",
       "      <td>-0.019163</td>\n",
       "      <td>0.074412</td>\n",
       "      <td>-0.039493</td>\n",
       "      <td>-0.068332</td>\n",
       "      <td>-0.092204</td>\n",
       "      <td>75.0</td>\n",
       "    </tr>\n",
       "    <tr>\n",
       "      <th>2</th>\n",
       "      <td>0.085299</td>\n",
       "      <td>0.050680</td>\n",
       "      <td>0.044451</td>\n",
       "      <td>-0.005670</td>\n",
       "      <td>-0.045599</td>\n",
       "      <td>-0.034194</td>\n",
       "      <td>-0.032356</td>\n",
       "      <td>-0.002592</td>\n",
       "      <td>0.002861</td>\n",
       "      <td>-0.025930</td>\n",
       "      <td>141.0</td>\n",
       "    </tr>\n",
       "    <tr>\n",
       "      <th>3</th>\n",
       "      <td>-0.089063</td>\n",
       "      <td>-0.044642</td>\n",
       "      <td>-0.011595</td>\n",
       "      <td>-0.036656</td>\n",
       "      <td>0.012191</td>\n",
       "      <td>0.024991</td>\n",
       "      <td>-0.036038</td>\n",
       "      <td>0.034309</td>\n",
       "      <td>0.022688</td>\n",
       "      <td>-0.009362</td>\n",
       "      <td>206.0</td>\n",
       "    </tr>\n",
       "    <tr>\n",
       "      <th>4</th>\n",
       "      <td>0.005383</td>\n",
       "      <td>-0.044642</td>\n",
       "      <td>-0.036385</td>\n",
       "      <td>0.021872</td>\n",
       "      <td>0.003935</td>\n",
       "      <td>0.015596</td>\n",
       "      <td>0.008142</td>\n",
       "      <td>-0.002592</td>\n",
       "      <td>-0.031988</td>\n",
       "      <td>-0.046641</td>\n",
       "      <td>135.0</td>\n",
       "    </tr>\n",
       "  </tbody>\n",
       "</table>\n",
       "</div>"
      ],
      "text/plain": [
       "        age       sex       bmi        bp        s1        s2        s3  \\\n",
       "0  0.038076  0.050680  0.061696  0.021872 -0.044223 -0.034821 -0.043401   \n",
       "1 -0.001882 -0.044642 -0.051474 -0.026328 -0.008449 -0.019163  0.074412   \n",
       "2  0.085299  0.050680  0.044451 -0.005670 -0.045599 -0.034194 -0.032356   \n",
       "3 -0.089063 -0.044642 -0.011595 -0.036656  0.012191  0.024991 -0.036038   \n",
       "4  0.005383 -0.044642 -0.036385  0.021872  0.003935  0.015596  0.008142   \n",
       "\n",
       "         s4        s5        s6  target  \n",
       "0 -0.002592  0.019907 -0.017646   151.0  \n",
       "1 -0.039493 -0.068332 -0.092204    75.0  \n",
       "2 -0.002592  0.002861 -0.025930   141.0  \n",
       "3  0.034309  0.022688 -0.009362   206.0  \n",
       "4 -0.002592 -0.031988 -0.046641   135.0  "
      ]
     },
     "execution_count": 230,
     "metadata": {},
     "output_type": "execute_result"
    }
   ],
   "source": [
    "# First 5 rows of the dataset\n",
    "df.head()"
   ]
  },
  {
   "cell_type": "code",
   "execution_count": 232,
   "id": "569d9cc5-6e40-459a-a1b9-81eb02d3cd9e",
   "metadata": {},
   "outputs": [
    {
     "data": {
      "text/html": [
       "<div>\n",
       "<style scoped>\n",
       "    .dataframe tbody tr th:only-of-type {\n",
       "        vertical-align: middle;\n",
       "    }\n",
       "\n",
       "    .dataframe tbody tr th {\n",
       "        vertical-align: top;\n",
       "    }\n",
       "\n",
       "    .dataframe thead th {\n",
       "        text-align: right;\n",
       "    }\n",
       "</style>\n",
       "<table border=\"1\" class=\"dataframe\">\n",
       "  <thead>\n",
       "    <tr style=\"text-align: right;\">\n",
       "      <th></th>\n",
       "      <th>age</th>\n",
       "      <th>sex</th>\n",
       "      <th>bmi</th>\n",
       "      <th>bp</th>\n",
       "      <th>s1</th>\n",
       "      <th>s2</th>\n",
       "      <th>s3</th>\n",
       "      <th>s4</th>\n",
       "      <th>s5</th>\n",
       "      <th>s6</th>\n",
       "      <th>target</th>\n",
       "    </tr>\n",
       "  </thead>\n",
       "  <tbody>\n",
       "    <tr>\n",
       "      <th>count</th>\n",
       "      <td>4.420000e+02</td>\n",
       "      <td>4.420000e+02</td>\n",
       "      <td>4.420000e+02</td>\n",
       "      <td>4.420000e+02</td>\n",
       "      <td>4.420000e+02</td>\n",
       "      <td>4.420000e+02</td>\n",
       "      <td>4.420000e+02</td>\n",
       "      <td>4.420000e+02</td>\n",
       "      <td>4.420000e+02</td>\n",
       "      <td>4.420000e+02</td>\n",
       "      <td>442.000000</td>\n",
       "    </tr>\n",
       "    <tr>\n",
       "      <th>mean</th>\n",
       "      <td>-2.511817e-19</td>\n",
       "      <td>1.230790e-17</td>\n",
       "      <td>-2.245564e-16</td>\n",
       "      <td>-4.797570e-17</td>\n",
       "      <td>-1.381499e-17</td>\n",
       "      <td>3.918434e-17</td>\n",
       "      <td>-5.777179e-18</td>\n",
       "      <td>-9.042540e-18</td>\n",
       "      <td>9.293722e-17</td>\n",
       "      <td>1.130318e-17</td>\n",
       "      <td>152.133484</td>\n",
       "    </tr>\n",
       "    <tr>\n",
       "      <th>std</th>\n",
       "      <td>4.761905e-02</td>\n",
       "      <td>4.761905e-02</td>\n",
       "      <td>4.761905e-02</td>\n",
       "      <td>4.761905e-02</td>\n",
       "      <td>4.761905e-02</td>\n",
       "      <td>4.761905e-02</td>\n",
       "      <td>4.761905e-02</td>\n",
       "      <td>4.761905e-02</td>\n",
       "      <td>4.761905e-02</td>\n",
       "      <td>4.761905e-02</td>\n",
       "      <td>77.093005</td>\n",
       "    </tr>\n",
       "    <tr>\n",
       "      <th>min</th>\n",
       "      <td>-1.072256e-01</td>\n",
       "      <td>-4.464164e-02</td>\n",
       "      <td>-9.027530e-02</td>\n",
       "      <td>-1.123988e-01</td>\n",
       "      <td>-1.267807e-01</td>\n",
       "      <td>-1.156131e-01</td>\n",
       "      <td>-1.023071e-01</td>\n",
       "      <td>-7.639450e-02</td>\n",
       "      <td>-1.260971e-01</td>\n",
       "      <td>-1.377672e-01</td>\n",
       "      <td>25.000000</td>\n",
       "    </tr>\n",
       "    <tr>\n",
       "      <th>25%</th>\n",
       "      <td>-3.729927e-02</td>\n",
       "      <td>-4.464164e-02</td>\n",
       "      <td>-3.422907e-02</td>\n",
       "      <td>-3.665608e-02</td>\n",
       "      <td>-3.424784e-02</td>\n",
       "      <td>-3.035840e-02</td>\n",
       "      <td>-3.511716e-02</td>\n",
       "      <td>-3.949338e-02</td>\n",
       "      <td>-3.324559e-02</td>\n",
       "      <td>-3.317903e-02</td>\n",
       "      <td>87.000000</td>\n",
       "    </tr>\n",
       "    <tr>\n",
       "      <th>50%</th>\n",
       "      <td>5.383060e-03</td>\n",
       "      <td>-4.464164e-02</td>\n",
       "      <td>-7.283766e-03</td>\n",
       "      <td>-5.670422e-03</td>\n",
       "      <td>-4.320866e-03</td>\n",
       "      <td>-3.819065e-03</td>\n",
       "      <td>-6.584468e-03</td>\n",
       "      <td>-2.592262e-03</td>\n",
       "      <td>-1.947171e-03</td>\n",
       "      <td>-1.077698e-03</td>\n",
       "      <td>140.500000</td>\n",
       "    </tr>\n",
       "    <tr>\n",
       "      <th>75%</th>\n",
       "      <td>3.807591e-02</td>\n",
       "      <td>5.068012e-02</td>\n",
       "      <td>3.124802e-02</td>\n",
       "      <td>3.564379e-02</td>\n",
       "      <td>2.835801e-02</td>\n",
       "      <td>2.984439e-02</td>\n",
       "      <td>2.931150e-02</td>\n",
       "      <td>3.430886e-02</td>\n",
       "      <td>3.243232e-02</td>\n",
       "      <td>2.791705e-02</td>\n",
       "      <td>211.500000</td>\n",
       "    </tr>\n",
       "    <tr>\n",
       "      <th>max</th>\n",
       "      <td>1.107267e-01</td>\n",
       "      <td>5.068012e-02</td>\n",
       "      <td>1.705552e-01</td>\n",
       "      <td>1.320436e-01</td>\n",
       "      <td>1.539137e-01</td>\n",
       "      <td>1.987880e-01</td>\n",
       "      <td>1.811791e-01</td>\n",
       "      <td>1.852344e-01</td>\n",
       "      <td>1.335973e-01</td>\n",
       "      <td>1.356118e-01</td>\n",
       "      <td>346.000000</td>\n",
       "    </tr>\n",
       "  </tbody>\n",
       "</table>\n",
       "</div>"
      ],
      "text/plain": [
       "                age           sex           bmi            bp            s1  \\\n",
       "count  4.420000e+02  4.420000e+02  4.420000e+02  4.420000e+02  4.420000e+02   \n",
       "mean  -2.511817e-19  1.230790e-17 -2.245564e-16 -4.797570e-17 -1.381499e-17   \n",
       "std    4.761905e-02  4.761905e-02  4.761905e-02  4.761905e-02  4.761905e-02   \n",
       "min   -1.072256e-01 -4.464164e-02 -9.027530e-02 -1.123988e-01 -1.267807e-01   \n",
       "25%   -3.729927e-02 -4.464164e-02 -3.422907e-02 -3.665608e-02 -3.424784e-02   \n",
       "50%    5.383060e-03 -4.464164e-02 -7.283766e-03 -5.670422e-03 -4.320866e-03   \n",
       "75%    3.807591e-02  5.068012e-02  3.124802e-02  3.564379e-02  2.835801e-02   \n",
       "max    1.107267e-01  5.068012e-02  1.705552e-01  1.320436e-01  1.539137e-01   \n",
       "\n",
       "                 s2            s3            s4            s5            s6  \\\n",
       "count  4.420000e+02  4.420000e+02  4.420000e+02  4.420000e+02  4.420000e+02   \n",
       "mean   3.918434e-17 -5.777179e-18 -9.042540e-18  9.293722e-17  1.130318e-17   \n",
       "std    4.761905e-02  4.761905e-02  4.761905e-02  4.761905e-02  4.761905e-02   \n",
       "min   -1.156131e-01 -1.023071e-01 -7.639450e-02 -1.260971e-01 -1.377672e-01   \n",
       "25%   -3.035840e-02 -3.511716e-02 -3.949338e-02 -3.324559e-02 -3.317903e-02   \n",
       "50%   -3.819065e-03 -6.584468e-03 -2.592262e-03 -1.947171e-03 -1.077698e-03   \n",
       "75%    2.984439e-02  2.931150e-02  3.430886e-02  3.243232e-02  2.791705e-02   \n",
       "max    1.987880e-01  1.811791e-01  1.852344e-01  1.335973e-01  1.356118e-01   \n",
       "\n",
       "           target  \n",
       "count  442.000000  \n",
       "mean   152.133484  \n",
       "std     77.093005  \n",
       "min     25.000000  \n",
       "25%     87.000000  \n",
       "50%    140.500000  \n",
       "75%    211.500000  \n",
       "max    346.000000  "
      ]
     },
     "execution_count": 232,
     "metadata": {},
     "output_type": "execute_result"
    }
   ],
   "source": [
    "# Statistical summary of the dataset\n",
    "df.describe()"
   ]
  },
  {
   "cell_type": "code",
   "execution_count": 236,
   "id": "c39b795a-7e9a-4502-a428-992dcdf56152",
   "metadata": {},
   "outputs": [
    {
     "data": {
      "text/plain": [
       "age       float64\n",
       "sex       float64\n",
       "bmi       float64\n",
       "bp        float64\n",
       "s1        float64\n",
       "s2        float64\n",
       "s3        float64\n",
       "s4        float64\n",
       "s5        float64\n",
       "s6        float64\n",
       "target    float64\n",
       "dtype: object"
      ]
     },
     "execution_count": 236,
     "metadata": {},
     "output_type": "execute_result"
    }
   ],
   "source": [
    "# review data types\n",
    "df.dtypes"
   ]
  },
  {
   "cell_type": "code",
   "execution_count": 239,
   "id": "8e841e61-ec17-4a5a-a959-fa399f07d519",
   "metadata": {},
   "outputs": [
    {
     "data": {
      "text/plain": [
       "age       0\n",
       "sex       0\n",
       "bmi       0\n",
       "bp        0\n",
       "s1        0\n",
       "s2        0\n",
       "s3        0\n",
       "s4        0\n",
       "s5        0\n",
       "s6        0\n",
       "target    0\n",
       "dtype: int64"
      ]
     },
     "execution_count": 239,
     "metadata": {},
     "output_type": "execute_result"
    }
   ],
   "source": [
    "# Missing data check\n",
    "df.isnull().sum()"
   ]
  },
  {
   "cell_type": "markdown",
   "id": "5821eb6c-5876-4c34-bf33-745db3bba5f5",
   "metadata": {},
   "source": [
    "According to the examinations, there are no missing (null/NaN) values in any column in the data set. This indicates that the data set is clean and ready for analysis."
   ]
  },
  {
   "cell_type": "markdown",
   "id": "0dcb8d68-c5c8-453d-9371-024a5826bc63",
   "metadata": {},
   "source": [
    "## **3. Dimension Reduction with PCA**"
   ]
  },
  {
   "cell_type": "code",
   "execution_count": 244,
   "id": "03b6d504-d637-4aad-bdcd-32ea29b19892",
   "metadata": {},
   "outputs": [],
   "source": [
    "# Separate target variable (columns other than target)\n",
    "X = df.drop(columns = [\"target\"])"
   ]
  },
  {
   "cell_type": "code",
   "execution_count": 246,
   "id": "957429fe-f4dc-4e70-8c93-432c7069f287",
   "metadata": {},
   "outputs": [],
   "source": [
    "# Normalize data\n",
    "scaler = StandardScaler()\n",
    "X_scaled = scaler.fit_transform(X)"
   ]
  },
  {
   "cell_type": "code",
   "execution_count": 248,
   "id": "ed2746f1-4f6d-4541-8c9b-1e8e3a565ad7",
   "metadata": {},
   "outputs": [],
   "source": [
    "# Dimensionality reduction with PCA (5 main components)\n",
    "pca = PCA(n_components = 5)\n",
    "X_pca = pca.fit_transform(X_scaled)"
   ]
  },
  {
   "cell_type": "code",
   "execution_count": 250,
   "id": "48b98abc-935e-449d-8b74-f5316a3b3927",
   "metadata": {},
   "outputs": [
    {
     "data": {
      "text/html": [
       "<div>\n",
       "<style scoped>\n",
       "    .dataframe tbody tr th:only-of-type {\n",
       "        vertical-align: middle;\n",
       "    }\n",
       "\n",
       "    .dataframe tbody tr th {\n",
       "        vertical-align: top;\n",
       "    }\n",
       "\n",
       "    .dataframe thead th {\n",
       "        text-align: right;\n",
       "    }\n",
       "</style>\n",
       "<table border=\"1\" class=\"dataframe\">\n",
       "  <thead>\n",
       "    <tr style=\"text-align: right;\">\n",
       "      <th></th>\n",
       "      <th>PC1</th>\n",
       "      <th>PC2</th>\n",
       "      <th>PC3</th>\n",
       "      <th>PC4</th>\n",
       "      <th>PC5</th>\n",
       "    </tr>\n",
       "  </thead>\n",
       "  <tbody>\n",
       "    <tr>\n",
       "      <th>0</th>\n",
       "      <td>0.587199</td>\n",
       "      <td>-1.946832</td>\n",
       "      <td>0.589205</td>\n",
       "      <td>-0.082816</td>\n",
       "      <td>-0.256680</td>\n",
       "    </tr>\n",
       "    <tr>\n",
       "      <th>1</th>\n",
       "      <td>-2.831625</td>\n",
       "      <td>1.372082</td>\n",
       "      <td>0.027930</td>\n",
       "      <td>-0.470008</td>\n",
       "      <td>-0.143269</td>\n",
       "    </tr>\n",
       "    <tr>\n",
       "      <th>2</th>\n",
       "      <td>0.272129</td>\n",
       "      <td>-1.634901</td>\n",
       "      <td>0.739244</td>\n",
       "      <td>-0.791492</td>\n",
       "      <td>-1.163870</td>\n",
       "    </tr>\n",
       "    <tr>\n",
       "      <th>3</th>\n",
       "      <td>0.049281</td>\n",
       "      <td>0.382278</td>\n",
       "      <td>-2.013032</td>\n",
       "      <td>1.373216</td>\n",
       "      <td>0.255570</td>\n",
       "    </tr>\n",
       "    <tr>\n",
       "      <th>4</th>\n",
       "      <td>-0.756421</td>\n",
       "      <td>0.811960</td>\n",
       "      <td>-0.057238</td>\n",
       "      <td>-0.137495</td>\n",
       "      <td>-0.133402</td>\n",
       "    </tr>\n",
       "    <tr>\n",
       "      <th>...</th>\n",
       "      <td>...</td>\n",
       "      <td>...</td>\n",
       "      <td>...</td>\n",
       "      <td>...</td>\n",
       "      <td>...</td>\n",
       "    </tr>\n",
       "    <tr>\n",
       "      <th>437</th>\n",
       "      <td>1.239525</td>\n",
       "      <td>-1.035968</td>\n",
       "      <td>0.928679</td>\n",
       "      <td>-0.656264</td>\n",
       "      <td>0.204296</td>\n",
       "    </tr>\n",
       "    <tr>\n",
       "      <th>438</th>\n",
       "      <td>1.264719</td>\n",
       "      <td>0.761319</td>\n",
       "      <td>-1.750191</td>\n",
       "      <td>-1.133464</td>\n",
       "      <td>-0.093975</td>\n",
       "    </tr>\n",
       "    <tr>\n",
       "      <th>439</th>\n",
       "      <td>-0.205206</td>\n",
       "      <td>-1.205487</td>\n",
       "      <td>0.496186</td>\n",
       "      <td>-1.353370</td>\n",
       "      <td>-0.141574</td>\n",
       "    </tr>\n",
       "    <tr>\n",
       "      <th>440</th>\n",
       "      <td>0.692871</td>\n",
       "      <td>0.210127</td>\n",
       "      <td>-0.868724</td>\n",
       "      <td>1.616793</td>\n",
       "      <td>0.119624</td>\n",
       "    </tr>\n",
       "    <tr>\n",
       "      <th>441</th>\n",
       "      <td>-1.903941</td>\n",
       "      <td>3.975777</td>\n",
       "      <td>-0.048338</td>\n",
       "      <td>-0.220629</td>\n",
       "      <td>0.599950</td>\n",
       "    </tr>\n",
       "  </tbody>\n",
       "</table>\n",
       "<p>442 rows × 5 columns</p>\n",
       "</div>"
      ],
      "text/plain": [
       "          PC1       PC2       PC3       PC4       PC5\n",
       "0    0.587199 -1.946832  0.589205 -0.082816 -0.256680\n",
       "1   -2.831625  1.372082  0.027930 -0.470008 -0.143269\n",
       "2    0.272129 -1.634901  0.739244 -0.791492 -1.163870\n",
       "3    0.049281  0.382278 -2.013032  1.373216  0.255570\n",
       "4   -0.756421  0.811960 -0.057238 -0.137495 -0.133402\n",
       "..        ...       ...       ...       ...       ...\n",
       "437  1.239525 -1.035968  0.928679 -0.656264  0.204296\n",
       "438  1.264719  0.761319 -1.750191 -1.133464 -0.093975\n",
       "439 -0.205206 -1.205487  0.496186 -1.353370 -0.141574\n",
       "440  0.692871  0.210127 -0.868724  1.616793  0.119624\n",
       "441 -1.903941  3.975777 -0.048338 -0.220629  0.599950\n",
       "\n",
       "[442 rows x 5 columns]"
      ]
     },
     "execution_count": 250,
     "metadata": {},
     "output_type": "execute_result"
    }
   ],
   "source": [
    "# Save new size reduced data as DataFrame\n",
    "pca_columns = [f\"PC{i+1}\" for i in range(5)]\n",
    "pca_df = pd.DataFrame(X_pca, columns = pca_columns)\n",
    "pca_df"
   ]
  },
  {
   "cell_type": "code",
   "execution_count": 252,
   "id": "edfb48b2-e197-4b4c-bd11-cba6a1a9ab35",
   "metadata": {},
   "outputs": [],
   "source": [
    "# Ratio of total variance explained by PCA\n",
    "explained_variance = pca.explained_variance_ratio_"
   ]
  },
  {
   "cell_type": "code",
   "execution_count": 254,
   "id": "5db3cdf0-34a3-4a93-86f9-4a609b3e671e",
   "metadata": {},
   "outputs": [
    {
     "name": "stdout",
     "output_type": "stream",
     "text": [
      "PC1: 0.40\n",
      "PC2: 0.15\n",
      "PC3: 0.12\n",
      "PC4: 0.10\n",
      "PC5: 0.07\n"
     ]
    }
   ],
   "source": [
    "for i, variance in enumerate(explained_variance, start = 1):\n",
    "    print(f\"PC{i}: {variance:.2f}\")"
   ]
  },
  {
   "cell_type": "code",
   "execution_count": 256,
   "id": "ed7acd44-d7ff-4254-a14d-1960dd420e65",
   "metadata": {},
   "outputs": [
    {
     "name": "stdout",
     "output_type": "stream",
     "text": [
      "Total variance explained: 0.83\n"
     ]
    }
   ],
   "source": [
    "print(f\"Total variance explained: {sum(explained_variance):.2f}\")"
   ]
  },
  {
   "cell_type": "code",
   "execution_count": 258,
   "id": "8c265a3d-7189-423c-acba-40bf099317b0",
   "metadata": {},
   "outputs": [
    {
     "data": {
      "text/html": [
       "<div>\n",
       "<style scoped>\n",
       "    .dataframe tbody tr th:only-of-type {\n",
       "        vertical-align: middle;\n",
       "    }\n",
       "\n",
       "    .dataframe tbody tr th {\n",
       "        vertical-align: top;\n",
       "    }\n",
       "\n",
       "    .dataframe thead th {\n",
       "        text-align: right;\n",
       "    }\n",
       "</style>\n",
       "<table border=\"1\" class=\"dataframe\">\n",
       "  <thead>\n",
       "    <tr style=\"text-align: right;\">\n",
       "      <th></th>\n",
       "      <th>PC1</th>\n",
       "      <th>PC2</th>\n",
       "      <th>PC3</th>\n",
       "      <th>PC4</th>\n",
       "      <th>PC5</th>\n",
       "    </tr>\n",
       "  </thead>\n",
       "  <tbody>\n",
       "    <tr>\n",
       "      <th>0</th>\n",
       "      <td>0.587199</td>\n",
       "      <td>-1.946832</td>\n",
       "      <td>0.589205</td>\n",
       "      <td>-0.082816</td>\n",
       "      <td>-0.256680</td>\n",
       "    </tr>\n",
       "    <tr>\n",
       "      <th>1</th>\n",
       "      <td>-2.831625</td>\n",
       "      <td>1.372082</td>\n",
       "      <td>0.027930</td>\n",
       "      <td>-0.470008</td>\n",
       "      <td>-0.143269</td>\n",
       "    </tr>\n",
       "    <tr>\n",
       "      <th>2</th>\n",
       "      <td>0.272129</td>\n",
       "      <td>-1.634901</td>\n",
       "      <td>0.739244</td>\n",
       "      <td>-0.791492</td>\n",
       "      <td>-1.163870</td>\n",
       "    </tr>\n",
       "    <tr>\n",
       "      <th>3</th>\n",
       "      <td>0.049281</td>\n",
       "      <td>0.382278</td>\n",
       "      <td>-2.013032</td>\n",
       "      <td>1.373216</td>\n",
       "      <td>0.255570</td>\n",
       "    </tr>\n",
       "    <tr>\n",
       "      <th>4</th>\n",
       "      <td>-0.756421</td>\n",
       "      <td>0.811960</td>\n",
       "      <td>-0.057238</td>\n",
       "      <td>-0.137495</td>\n",
       "      <td>-0.133402</td>\n",
       "    </tr>\n",
       "  </tbody>\n",
       "</table>\n",
       "</div>"
      ],
      "text/plain": [
       "        PC1       PC2       PC3       PC4       PC5\n",
       "0  0.587199 -1.946832  0.589205 -0.082816 -0.256680\n",
       "1 -2.831625  1.372082  0.027930 -0.470008 -0.143269\n",
       "2  0.272129 -1.634901  0.739244 -0.791492 -1.163870\n",
       "3  0.049281  0.382278 -2.013032  1.373216  0.255570\n",
       "4 -0.756421  0.811960 -0.057238 -0.137495 -0.133402"
      ]
     },
     "execution_count": 258,
     "metadata": {},
     "output_type": "execute_result"
    }
   ],
   "source": [
    "# Display first 5 rows of new dimension reduced dataset\n",
    "pca_df.head()"
   ]
  },
  {
   "cell_type": "markdown",
   "id": "03f32d8a-b1d8-49e9-8fc6-71a2a4446c13",
   "metadata": {},
   "source": [
    "## **4. Linear Regression Model with Least Squares Method**"
   ]
  },
  {
   "cell_type": "markdown",
   "id": "4de91a45-43aa-481d-a23a-a31a977c17b4",
   "metadata": {},
   "source": [
    "divide the data(X) created by PCA and the target variable(y) into 80% training and 20% testing."
   ]
  },
  {
   "cell_type": "code",
   "execution_count": 262,
   "id": "06e4fd69-6301-49f7-8660-49cc98542bb4",
   "metadata": {},
   "outputs": [],
   "source": [
    "# Separate the dataset into training and testing set\n",
    "X_train, X_test, y_train, y_test = train_test_split(pca_df, df[\"target\"], test_size = 0.2, random_state = 42)"
   ]
  },
  {
   "cell_type": "code",
   "execution_count": 264,
   "id": "ec9c2af2-a550-4ef0-8bdd-51440f2fb107",
   "metadata": {},
   "outputs": [
    {
     "data": {
      "text/html": [
       "<style>#sk-container-id-2 {color: black;background-color: white;}#sk-container-id-2 pre{padding: 0;}#sk-container-id-2 div.sk-toggleable {background-color: white;}#sk-container-id-2 label.sk-toggleable__label {cursor: pointer;display: block;width: 100%;margin-bottom: 0;padding: 0.3em;box-sizing: border-box;text-align: center;}#sk-container-id-2 label.sk-toggleable__label-arrow:before {content: \"▸\";float: left;margin-right: 0.25em;color: #696969;}#sk-container-id-2 label.sk-toggleable__label-arrow:hover:before {color: black;}#sk-container-id-2 div.sk-estimator:hover label.sk-toggleable__label-arrow:before {color: black;}#sk-container-id-2 div.sk-toggleable__content {max-height: 0;max-width: 0;overflow: hidden;text-align: left;background-color: #f0f8ff;}#sk-container-id-2 div.sk-toggleable__content pre {margin: 0.2em;color: black;border-radius: 0.25em;background-color: #f0f8ff;}#sk-container-id-2 input.sk-toggleable__control:checked~div.sk-toggleable__content {max-height: 200px;max-width: 100%;overflow: auto;}#sk-container-id-2 input.sk-toggleable__control:checked~label.sk-toggleable__label-arrow:before {content: \"▾\";}#sk-container-id-2 div.sk-estimator input.sk-toggleable__control:checked~label.sk-toggleable__label {background-color: #d4ebff;}#sk-container-id-2 div.sk-label input.sk-toggleable__control:checked~label.sk-toggleable__label {background-color: #d4ebff;}#sk-container-id-2 input.sk-hidden--visually {border: 0;clip: rect(1px 1px 1px 1px);clip: rect(1px, 1px, 1px, 1px);height: 1px;margin: -1px;overflow: hidden;padding: 0;position: absolute;width: 1px;}#sk-container-id-2 div.sk-estimator {font-family: monospace;background-color: #f0f8ff;border: 1px dotted black;border-radius: 0.25em;box-sizing: border-box;margin-bottom: 0.5em;}#sk-container-id-2 div.sk-estimator:hover {background-color: #d4ebff;}#sk-container-id-2 div.sk-parallel-item::after {content: \"\";width: 100%;border-bottom: 1px solid gray;flex-grow: 1;}#sk-container-id-2 div.sk-label:hover label.sk-toggleable__label {background-color: #d4ebff;}#sk-container-id-2 div.sk-serial::before {content: \"\";position: absolute;border-left: 1px solid gray;box-sizing: border-box;top: 0;bottom: 0;left: 50%;z-index: 0;}#sk-container-id-2 div.sk-serial {display: flex;flex-direction: column;align-items: center;background-color: white;padding-right: 0.2em;padding-left: 0.2em;position: relative;}#sk-container-id-2 div.sk-item {position: relative;z-index: 1;}#sk-container-id-2 div.sk-parallel {display: flex;align-items: stretch;justify-content: center;background-color: white;position: relative;}#sk-container-id-2 div.sk-item::before, #sk-container-id-2 div.sk-parallel-item::before {content: \"\";position: absolute;border-left: 1px solid gray;box-sizing: border-box;top: 0;bottom: 0;left: 50%;z-index: -1;}#sk-container-id-2 div.sk-parallel-item {display: flex;flex-direction: column;z-index: 1;position: relative;background-color: white;}#sk-container-id-2 div.sk-parallel-item:first-child::after {align-self: flex-end;width: 50%;}#sk-container-id-2 div.sk-parallel-item:last-child::after {align-self: flex-start;width: 50%;}#sk-container-id-2 div.sk-parallel-item:only-child::after {width: 0;}#sk-container-id-2 div.sk-dashed-wrapped {border: 1px dashed gray;margin: 0 0.4em 0.5em 0.4em;box-sizing: border-box;padding-bottom: 0.4em;background-color: white;}#sk-container-id-2 div.sk-label label {font-family: monospace;font-weight: bold;display: inline-block;line-height: 1.2em;}#sk-container-id-2 div.sk-label-container {text-align: center;}#sk-container-id-2 div.sk-container {/* jupyter's `normalize.less` sets `[hidden] { display: none; }` but bootstrap.min.css set `[hidden] { display: none !important; }` so we also need the `!important` here to be able to override the default hidden behavior on the sphinx rendered scikit-learn.org. See: https://github.com/scikit-learn/scikit-learn/issues/21755 */display: inline-block !important;position: relative;}#sk-container-id-2 div.sk-text-repr-fallback {display: none;}</style><div id=\"sk-container-id-2\" class=\"sk-top-container\"><div class=\"sk-text-repr-fallback\"><pre>LinearRegression()</pre><b>In a Jupyter environment, please rerun this cell to show the HTML representation or trust the notebook. <br />On GitHub, the HTML representation is unable to render, please try loading this page with nbviewer.org.</b></div><div class=\"sk-container\" hidden><div class=\"sk-item\"><div class=\"sk-estimator sk-toggleable\"><input class=\"sk-toggleable__control sk-hidden--visually\" id=\"sk-estimator-id-2\" type=\"checkbox\" checked><label for=\"sk-estimator-id-2\" class=\"sk-toggleable__label sk-toggleable__label-arrow\">LinearRegression</label><div class=\"sk-toggleable__content\"><pre>LinearRegression()</pre></div></div></div></div></div>"
      ],
      "text/plain": [
       "LinearRegression()"
      ]
     },
     "execution_count": 264,
     "metadata": {},
     "output_type": "execute_result"
    }
   ],
   "source": [
    "# Build and train linear regression model\n",
    "model = LinearRegression() # linear regression model \n",
    "model.fit(X_train, y_train) # train the model with training data"
   ]
  },
  {
   "cell_type": "code",
   "execution_count": 266,
   "id": "8f846ba5-fc38-4d98-8431-741bc0522bde",
   "metadata": {},
   "outputs": [
    {
     "name": "stdout",
     "output_type": "stream",
     "text": [
      "Coefficients: [ 21.19335388 -13.65289549  12.59188219  27.41024926  -1.81529702]\n",
      "Intercept: 151.18203998537038\n"
     ]
    }
   ],
   "source": [
    "# View the model's coefficients and constant term\n",
    "print(\"Coefficients:\", model.coef_) # shows the effect of PCA components on the target variable\n",
    "print(\"Intercept:\", model.intercept_) # constant term of the model; is the estimated value of the target variable when all independent variables are 0"
   ]
  },
  {
   "cell_type": "code",
   "execution_count": 268,
   "id": "14c8506e-108d-4062-85b0-ffddb69defd8",
   "metadata": {},
   "outputs": [],
   "source": [
    "# Make predictions on test data\n",
    "y_pred = model.predict(X_test) # used to evaluate how well the model works"
   ]
  },
  {
   "cell_type": "markdown",
   "id": "d5acc557-cf2a-490d-929c-6f4648a89605",
   "metadata": {},
   "source": [
    "## **5. Evaluating Model Performance**"
   ]
  },
  {
   "cell_type": "code",
   "execution_count": 271,
   "id": "c2716d83-33ad-4ea7-a3ac-86c560f87310",
   "metadata": {},
   "outputs": [],
   "source": [
    "# Evaluate the predictions\n",
    "mse = mean_squared_error(y_test, y_pred)\n",
    "mae = mean_absolute_error(y_test, y_pred)\n",
    "r2 = r2_score(y_test, y_pred)"
   ]
  },
  {
   "cell_type": "code",
   "execution_count": 273,
   "id": "42e4e6dd-9367-4f69-94db-dbfa9e356090",
   "metadata": {},
   "outputs": [
    {
     "name": "stdout",
     "output_type": "stream",
     "text": [
      "MSE: 2879.59\n",
      "MAE: 43.29\n",
      "R2 score: 0.46\n"
     ]
    }
   ],
   "source": [
    "print(f\"MSE: {mse:.2f}\")\n",
    "print(f\"MAE: {mae:.2f}\")\n",
    "print(f\"R2 score: {r2:.2f}\")"
   ]
  },
  {
   "cell_type": "markdown",
   "id": "60bbdef8-25a3-40ab-a93f-3168ecec7ccb",
   "metadata": {},
   "source": [
    "#### **Model Performance**\n",
    "**Mse:** <code>2879.59</code> The squared deviation in the model's predictions is high. A better performance can be targeted with a lower mse.\n",
    "\n",
    "**Mae:** <code> 43.29 </code> On average, the model predicted values deviated from the actual values by 43.29 units. This error rate must be evaluated according to the context of the data set.\n",
    "\n",
    "**R2 score:** <code> 0.46 </code> The model can explain 46% of the variance of the target variable. This performance is average and has potential for improvement.\n",
    "\n",
    "**Suggestions:**\n",
    "- More variance can be captured by increasing the number of PCA components.\n",
    "- The power of the model can be increased with more data or different features.\n"
   ]
  },
  {
   "cell_type": "code",
   "execution_count": 278,
   "id": "e55ffc29-8535-4040-a43f-35baf157ae73",
   "metadata": {},
   "outputs": [
    {
     "data": {
      "image/png": "[encoded data removed]",
      "text/plain": [
       "<Figure size 800x600 with 1 Axes>"
      ]
     },
     "metadata": {},
     "output_type": "display_data"
    }
   ],
   "source": [
    "# Relationship between actual values and predicted values\n",
    "plt.figure(figsize=(8, 6))\n",
    "plt.scatter(y_test, y_pred, alpha=0.7, edgecolor='k')\n",
    "plt.plot([y_test.min(), y_test.max()], [y_test.min(), y_test.max()], 'r--', lw=2, label=\"Perfect Prediction Line\")\n",
    "plt.xlabel(\"Actual Values\")\n",
    "plt.ylabel(\"Predicted Values\")\n",
    "plt.title(\"Actual vs Predicted Values\")\n",
    "plt.legend()\n",
    "plt.show()"
   ]
  },
  {
   "cell_type": "markdown",
   "id": "662fb7c6-1ac1-4077-a754-bb552eea3c41",
   "metadata": {},
   "source": [
    "The graph above shows the relationship between the values predicted by the model and the actual values.\n",
    "- **Red Line (Perfect Prediction Line):** This line represents an ideal situation where the predicted values are equal to the actual values.\n",
    "- **Dots:** Each dot represents the actual and predicted values ​​of a data sample.\n",
    "\n",
    "**Comments:**\n",
    "* Although model predictions are generally close to the red line, some deviations are observed.\n",
    "* Especially at higher actual values (200 and above), the deviation rate of the estimates increases.\n",
    "* This may indicate that the model is less sensitive to large values ​​or that further improvements could be made."
   ]
  },
  {
   "cell_type": "code",
   "execution_count": 291,
   "id": "fe403b2c-45ad-45e6-a150-150350817360",
   "metadata": {},
   "outputs": [
    {
     "data": {
      "image/png": "[encoded data removed]",
      "text/plain": [
       "<Figure size 800x600 with 1 Axes>"
      ]
     },
     "metadata": {},
     "output_type": "display_data"
    }
   ],
   "source": [
    "# Residual Plot\n",
    "residuals = y_test - y_pred # calculate \n",
    "\n",
    "plt.figure(figsize=(8, 6))\n",
    "plt.scatter(y_pred, residuals, alpha=0.7, edgecolor='k')\n",
    "plt.axhline(y=0, color='r', linestyle='--', lw=2)\n",
    "plt.xlabel(\"Predicted Values\")\n",
    "plt.ylabel(\"Error (Actual - Prediction)\")\n",
    "plt.title(\"Error Distribution\")\n",
    "plt.show()\n",
    "\n"
   ]
  },
  {
   "cell_type": "markdown",
   "id": "ab390ee2-4b43-4cb2-96de-bc26d884df1d",
   "metadata": {},
   "source": [
    "This graph shows the distribution of the model's prediction errors (actual value - predicted value) relative to the predicted values.\n",
    "- **Red Line (0 Error Line):** The red dashed line represents the point where the error is zero. The fact that the error values are distributed symmetrically around this line indicates that the model makes balanced predictions.\n",
    "- **Dots:** Each dot represents the error of a prediction.The y value of the point indicates the amount of error of the predicted value (true value - prediction).\n",
    "\n",
    "**OBSERVATION:**\n",
    "1. **Error Distribution:** Errors are generally distributed around zero (red line). This indicates that the model does not make a systematic error.However, large errors are observed at some data points\n",
    "2. **Deviations in Higher Estimates:** It can be seen that the estimated values (e.g. 200 and above) spread the errors over a wider range. This shows that higher values of the model become harder to predict.\n",
    "3. **Improvement Opportunities:** For data points with large errors, improving the model may be considered.\n",
    "   - Training with more data.\n",
    "   - Applying different models or regularization methods for faulty regions.\n",
    "\n",
    "#### **SUMMARY**\n",
    "This graph shows that the model's error distribution is generally balanced, but there are large deviations at some data points. These deviations indicate the improvement potential of the model."
   ]
  },
  {
   "cell_type": "code",
   "execution_count": null,
   "id": "56b91cc1-2fb1-466a-913d-6e914debf369",
   "metadata": {},
   "outputs": [],
   "source": []
  }
 ],
 "metadata": {
  "kernelspec": {
   "display_name": "Python 3 (ipykernel)",
   "language": "python",
   "name": "python3"
  },
  "language_info": {
   "codemirror_mode": {
    "name": "ipython",
    "version": 3
   },
   "file_extension": ".py",
   "mimetype": "text/x-python",
   "name": "python",
   "nbconvert_exporter": "python",
   "pygments_lexer": "ipython3",
   "version": "3.11.7"
  }
 },
 "nbformat": 4,
 "nbformat_minor": 5
}
